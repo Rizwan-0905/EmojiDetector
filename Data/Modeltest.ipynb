{
 "cells": [
  {
   "cell_type": "code",
   "execution_count": 8,
   "id": "10046774",
   "metadata": {},
   "outputs": [],
   "source": [
    "from tensorflow.keras.preprocessing.image import load_img, img_to_array\n",
    "import numpy as np\n",
    "from tensorflow.keras.models import load_model\n",
    "import joblib\n",
    "import os"
   ]
  },
  {
   "cell_type": "code",
   "execution_count": 14,
   "id": "30935a69",
   "metadata": {},
   "outputs": [
    {
     "name": "stderr",
     "output_type": "stream",
     "text": [
      "WARNING:absl:Compiled the loaded model, but the compiled metrics have yet to be built. `model.compile_metrics` will be empty until you train or evaluate the model.\n"
     ]
    }
   ],
   "source": [
    "# Load model and label encoder\n",
    "model = load_model(\"D:\\SE\\Data\\model_checkpoints\\model_epoch_30.h5\")\n",
    "le = joblib.load(\"D:/SE/Data/label_encoder.pkl\")"
   ]
  },
  {
   "cell_type": "code",
   "execution_count": 47,
   "id": "bb8a215b",
   "metadata": {},
   "outputs": [
    {
     "data": {
      "text/plain": [
       "np.int64(1046)"
      ]
     },
     "execution_count": 47,
     "metadata": {},
     "output_type": "execute_result"
    }
   ],
   "source": [
    "folder_path = \"D:/SE/Data/screenshots/screenshots10cropped/\"\n",
    "labels_file = os.path.join(folder_path, \"labels.txt\")\n",
    "true_labels = {}\n",
    "with open(labels_file, \"r\", encoding=\"utf-8\") as f:\n",
    "    for line in f:\n",
    "        parts = line.strip().split(\",\")\n",
    "        if len(parts) >= 3:\n",
    "            filename = parts[0].strip()\n",
    "            unicode_label = parts[2].strip()\n",
    "            true_labels[filename] = unicode_label\n",
    "\n",
    "total = 0\n",
    "correct = 0\n",
    "'''\n",
    "for filename in os.listdir(folder_path):\n",
    "    if filename.lower().endswith(('.png', '.jpg', '.jpeg')) and filename in true_labels:\n",
    "        filepath = os.path.join(folder_path, filename)\n",
    "        # Load and preprocess the image\n",
    "        img = load_img(filepath, target_size=(64, 64))\n",
    "        img_array = img_to_array(img) / 255.0\n",
    "        img_array = np.expand_dims(img_array, axis=0)\n",
    "        # Predict\n",
    "        predictions = model.predict(img_array, verbose=0)\n",
    "        predicted_index = np.argmax(predictions)\n",
    "        if predicted_index < len(le.classes_):\n",
    "            predicted_unicode = le.inverse_transform([predicted_index])[0]\n",
    "        else:\n",
    "            predicted_unicode = \"Unknown\"\n",
    "        actual_unicode = true_labels[filename]\n",
    "        print(f\"{filename} - Predicted: {predicted_unicode}, Actual: {actual_unicode}\")\n",
    "        if predicted_unicode == actual_unicode:\n",
    "            correct += 1\n",
    "        total += 1\n",
    "\n",
    "if total > 0:\n",
    "    accuracy = correct / total\n",
    "    print(f\"\\nAccuracy: {accuracy:.2%}\")\n",
    "else:\n",
    "    print(\"No matching images with labels found.\")\n",
    "'''\n",
    "filepath = os.path.join(folder_path, os.listdir(folder_path)[1])\n",
    "img = load_img(filepath, target_size=(64, 64))\n",
    "img_array = img_to_array(img) / 255.0\n",
    "img_array = np.expand_dims(img_array, axis=0)\n",
    "predicted_index = np.argmax(model.predict(img_array, verbose=0))\n",
    "predicted_unicode = le.inverse_transform([predicted_index])[0]\n",
    "predicted_index"
   ]
  }
 ],
 "metadata": {
  "kernelspec": {
   "display_name": ".venv",
   "language": "python",
   "name": "python3"
  },
  "language_info": {
   "codemirror_mode": {
    "name": "ipython",
    "version": 3
   },
   "file_extension": ".py",
   "mimetype": "text/x-python",
   "name": "python",
   "nbconvert_exporter": "python",
   "pygments_lexer": "ipython3",
   "version": "3.12.9"
  }
 },
 "nbformat": 4,
 "nbformat_minor": 5
}
